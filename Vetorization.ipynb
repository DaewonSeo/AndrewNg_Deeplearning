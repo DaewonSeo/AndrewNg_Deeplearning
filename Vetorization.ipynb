{
  "nbformat": 4,
  "nbformat_minor": 0,
  "metadata": {
    "colab": {
      "name": "Vetorization.ipynb",
      "provenance": [],
      "authorship_tag": "ABX9TyOMjnMYKhEHj68fpiH6SnuU"
    },
    "kernelspec": {
      "name": "python3",
      "display_name": "Python 3"
    },
    "accelerator": "GPU"
  },
  "cells": [
    {
      "cell_type": "markdown",
      "metadata": {
        "id": "Zg58dbDyRRjR"
      },
      "source": [
        "## Vectorized와 for loop 중 어떤게 더 효율적인가?"
      ]
    },
    {
      "cell_type": "code",
      "metadata": {
        "id": "OBGE4bWZPTun"
      },
      "source": [
        "import numpy as np"
      ],
      "execution_count": null,
      "outputs": []
    },
    {
      "cell_type": "code",
      "metadata": {
        "colab": {
          "base_uri": "https://localhost:8080/"
        },
        "id": "1XJwO4P3PlV0",
        "outputId": "b86204ee-4aaa-43f9-c591-c21433abfb13"
      },
      "source": [
        "a = np.array([1,2,3,4])\r\n",
        "print(a)"
      ],
      "execution_count": null,
      "outputs": [
        {
          "output_type": "stream",
          "text": [
            "[1 2 3 4]\n"
          ],
          "name": "stdout"
        }
      ]
    },
    {
      "cell_type": "code",
      "metadata": {
        "colab": {
          "base_uri": "https://localhost:8080/"
        },
        "id": "BrRLzFL6Ps5X",
        "outputId": "12ac545e-c65a-448a-9d0a-6077069e3981"
      },
      "source": [
        "import time\r\n",
        "\r\n",
        "a = np.random.rand(1000000)\r\n",
        "b = np.random.rand(1000000)\r\n",
        "\r\n",
        "tic = time.time()\r\n",
        "c = np.dot(a, b)\r\n",
        "tac = time.time()\r\n",
        "\r\n",
        "print(c)\r\n",
        "print(\"vetorized : \" + str((tac-tic)*1000) + \"ms\")\r\n",
        "\r\n",
        "c = 0\r\n",
        "tic = time.time()\r\n",
        "for i in range(1000000):\r\n",
        "  c += a[i] * b[i]\r\n",
        "tac = time.time()\r\n",
        "\r\n",
        "print(c)\r\n",
        "print(\"for loop :\" + str((tac-tic)*1000) + \"ms\")"
      ],
      "execution_count": null,
      "outputs": [
        {
          "output_type": "stream",
          "text": [
            "249902.26556255613\n",
            "vetorized : 1.2309551239013672ms\n",
            "249902.2655625579\n",
            "for loop :594.6345329284668ms\n"
          ],
          "name": "stdout"
        }
      ]
    }
  ]
}